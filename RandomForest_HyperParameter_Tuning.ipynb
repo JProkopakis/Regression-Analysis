{
 "cells": [
  {
   "cell_type": "code",
   "execution_count": 1,
   "id": "11e0b1aa",
   "metadata": {},
   "outputs": [],
   "source": [
    "import pandas as pd\n",
    "import numpy as np\n",
    "import matplotlib.pyplot as plt"
   ]
  },
  {
   "cell_type": "code",
   "execution_count": 2,
   "id": "ebae1667",
   "metadata": {},
   "outputs": [],
   "source": [
    "df = pd.read_excel('results.xlsx')"
   ]
  },
  {
   "cell_type": "code",
   "execution_count": 3,
   "id": "1ea3d642",
   "metadata": {},
   "outputs": [],
   "source": [
    "df.drop(['Unnamed: 0', 'Sequence Num', 'phone_time', 'timestamp', 'valid','BRAmplitude'] , axis=1, inplace=True)"
   ]
  },
  {
   "cell_type": "code",
   "execution_count": 4,
   "id": "a9e0edd8",
   "metadata": {},
   "outputs": [],
   "source": [
    "X = df.iloc[:, :-1].values\n",
    "y = df.iloc[:, -1].values"
   ]
  },
  {
   "cell_type": "code",
   "execution_count": 5,
   "id": "2784a42a",
   "metadata": {},
   "outputs": [],
   "source": [
    "from sklearn.compose import ColumnTransformer\n",
    "from sklearn.preprocessing import OneHotEncoder\n",
    "ct = ColumnTransformer(transformers=[('encoder', OneHotEncoder(), [11])], remainder='passthrough')\n",
    "X = np.array(ct.fit_transform(X))"
   ]
  },
  {
   "cell_type": "code",
   "execution_count": 6,
   "id": "2ba5af71",
   "metadata": {},
   "outputs": [],
   "source": [
    "# index for feature importances\n",
    "a=df.columns\n",
    "a = a.drop(['gender','cals'])\n",
    "a = a.insert(0,'male')\n",
    "a = a.insert(0,'female')"
   ]
  },
  {
   "cell_type": "code",
   "execution_count": 7,
   "id": "c358714b",
   "metadata": {},
   "outputs": [
    {
     "name": "stdout",
     "output_type": "stream",
     "text": [
      "Indices for each unique value in:\n",
      "Value: 9467 Indices: [1505, 2104]\n",
      "Value: 11073 Indices: [2699, 3298]\n",
      "Value: 12108 Indices: [1093, 1504]\n",
      "Value: 12890 Indices: [493, 1092]\n",
      "Value: 13002 Indices: [2105, 2698]\n",
      "Value: 13673 Indices: [0, 492]\n",
      "Value: 13720 Indices: [3723, 4322]\n",
      "Value: 13942 Indices: [3299, 3722]\n",
      "Value: 14173 Indices: [4572, 5059]\n",
      "Value: 14711 Indices: [4323, 4571]\n"
     ]
    }
   ],
   "source": [
    "# Get unique values in column i\n",
    "unique_values = np.unique(X[:, -1])\n",
    "\n",
    "# Dictionary to store indices for each unique value\n",
    "indices_dict = {}\n",
    "\n",
    "# Iterate over unique values\n",
    "for value in unique_values:\n",
    "    indices = np.where(X[:, -1] == value)[0]\n",
    "    indices_dict[value] = [indices[0],indices[-1]]\n",
    "\n",
    "print(\"Indices for each unique value in:\")\n",
    "for value, indices in indices_dict.items():\n",
    "    print(\"Value:\", value, \"Indices:\", indices)"
   ]
  },
  {
   "cell_type": "code",
   "execution_count": 8,
   "id": "035f1363",
   "metadata": {
    "scrolled": true
   },
   "outputs": [
    {
     "name": "stdout",
     "output_type": "stream",
     "text": [
      "Mean Squared Error: [0.0024921207164659933, 0.001560645734385787, 0.004803015821613721, 0.0018463537165836438, 0.0024186029468174185, 0.00036848323615444367, 0.0008201071791691898, 0.00024403677464651162, 0.00031415517765640786, 0.0002532648289142184]\n",
      "Mean Squared Error: 0.0015120786132407338\n",
      "Standard Deviation of MSE: 0.001383503988736861\n"
     ]
    }
   ],
   "source": [
    "from sklearn.model_selection import KFold\n",
    "from sklearn.ensemble import RandomForestRegressor\n",
    "from sklearn.metrics import mean_squared_error\n",
    "\n",
    "\n",
    "num_subjects = 10\n",
    "\n",
    "# Extract the indices corresponding to each subject's data\n",
    "subject_indices = [np.arange(indices[0], indices[1]+1) for indices in indices_dict.values()]\n",
    "\n",
    "# Define the number of folds for subject-wise cross-validation\n",
    "k = num_subjects\n",
    "\n",
    "# Initialize the Random Forest Regressor\n",
    "rf_model = RandomForestRegressor()\n",
    "\n",
    "# Initialize the KFold object with subject-wise splitting\n",
    "kf = KFold(n_splits=k)\n",
    "\n",
    "# Initialize a list to store the mean squared errors (MSE) for each fold\n",
    "mse_scores = []\n",
    "\n",
    "# Perform subject-wise cross-validation\n",
    "for train_index, test_index in kf.split(range(num_subjects)):\n",
    "    # Extract the indices corresponding to the current training and testing subjects\n",
    "    train_indices = np.concatenate([subject_indices[i] for i in train_index])\n",
    "    test_indices = np.concatenate([subject_indices[i] for i in test_index])\n",
    "    \n",
    "    # Extract the training and testing data for the current fold\n",
    "    X_train = X[train_indices]\n",
    "    y_train = y[train_indices]\n",
    "    X_test = X[test_indices]\n",
    "    y_test = y[test_indices]\n",
    "    \n",
    "    # Train the model on the training data\n",
    "    rf_model.fit(X_train, y_train)\n",
    "    \n",
    "    # Make predictions on the test data\n",
    "    y_pred = rf_model.predict(X_test)\n",
    "    \n",
    "    # Calculate the mean squared error\n",
    "    mse = mean_squared_error(y_test, y_pred)\n",
    "    \n",
    "    # Append the MSE to the list of scores\n",
    "    mse_scores.append(mse)\n",
    "\n",
    "# Calculate the mean and standard deviation of the MSE scores\n",
    "mean_mse = np.mean(mse_scores)\n",
    "std_mse = np.std(mse_scores)\n",
    "\n",
    "print(f\"Mean Squared Error: {mse_scores}\")\n",
    "print(f\"Mean Squared Error: {mean_mse}\")\n",
    "print(f\"Standard Deviation of MSE: {std_mse}\")"
   ]
  },
  {
   "cell_type": "code",
   "execution_count": 9,
   "id": "8ef02d98",
   "metadata": {},
   "outputs": [
    {
     "name": "stdout",
     "output_type": "stream",
     "text": [
      "RootMean Squared Error: [0.04992114 0.03950501 0.06930379 0.04296922 0.04917929 0.01919592\n",
      " 0.02863751 0.01562168 0.01772442 0.0159143 ]\n"
     ]
    }
   ],
   "source": [
    "print(f\"RootMean Squared Error: {np.sqrt(mse_scores)}\")"
   ]
  },
  {
   "cell_type": "code",
   "execution_count": 10,
   "id": "e193da07",
   "metadata": {},
   "outputs": [
    {
     "name": "stdout",
     "output_type": "stream",
     "text": [
      "mean of Root Mean Squared Error: 0.034797228646238854\n"
     ]
    }
   ],
   "source": [
    "print(f\"mean of Root Mean Squared Error: {np.mean(np.sqrt(mse_scores))}\")"
   ]
  },
  {
   "cell_type": "code",
   "execution_count": 11,
   "id": "6f4e7112",
   "metadata": {},
   "outputs": [],
   "source": [
    "from sklearn.model_selection import BaseCrossValidator\n",
    "\n",
    "class SubjectKFold(BaseCrossValidator):\n",
    "    def __init__(self, num_subjects):\n",
    "        self.num_subjects = num_subjects\n",
    "\n",
    "    def split(self, X, y=None, groups=None):\n",
    "        subject_indices = [np.arange(indices[0], indices[1] + 1) for indices in indices_dict.values()]\n",
    "        for train_index, test_index in KFold(n_splits=self.num_subjects).split(subject_indices):\n",
    "            train_indices = np.concatenate([subject_indices[i] for i in train_index])\n",
    "            test_indices = np.concatenate([subject_indices[i] for i in test_index])\n",
    "            yield train_indices, test_indices\n",
    "    def get_n_splits(self, X=None, y=None, groups=None):\n",
    "        return self.num_subjects"
   ]
  },
  {
   "cell_type": "code",
   "execution_count": 12,
   "id": "e9d21306",
   "metadata": {},
   "outputs": [
    {
     "name": "stdout",
     "output_type": "stream",
     "text": [
      "Fitting 10 folds for each of 12 candidates, totalling 120 fits\n",
      "[CV 1/10] END .max_depth=None, n_estimators=10;, score=-0.053 total time=   0.4s\n",
      "[CV 2/10] END .max_depth=None, n_estimators=10;, score=-0.039 total time=   0.4s\n",
      "[CV 3/10] END .max_depth=None, n_estimators=10;, score=-0.070 total time=   0.4s\n",
      "[CV 4/10] END .max_depth=None, n_estimators=10;, score=-0.040 total time=   0.4s\n",
      "[CV 5/10] END .max_depth=None, n_estimators=10;, score=-0.049 total time=   0.4s\n",
      "[CV 6/10] END .max_depth=None, n_estimators=10;, score=-0.019 total time=   0.4s\n",
      "[CV 7/10] END .max_depth=None, n_estimators=10;, score=-0.030 total time=   0.4s\n",
      "[CV 8/10] END .max_depth=None, n_estimators=10;, score=-0.016 total time=   0.4s\n",
      "[CV 9/10] END .max_depth=None, n_estimators=10;, score=-0.021 total time=   0.4s\n",
      "[CV 10/10] END max_depth=None, n_estimators=10;, score=-0.017 total time=   0.4s\n",
      "[CV 1/10] END .max_depth=None, n_estimators=50;, score=-0.054 total time=   2.1s\n",
      "[CV 2/10] END .max_depth=None, n_estimators=50;, score=-0.040 total time=   2.2s\n",
      "[CV 3/10] END .max_depth=None, n_estimators=50;, score=-0.069 total time=   2.2s\n",
      "[CV 4/10] END .max_depth=None, n_estimators=50;, score=-0.045 total time=   2.3s\n",
      "[CV 5/10] END .max_depth=None, n_estimators=50;, score=-0.049 total time=   2.2s\n",
      "[CV 6/10] END .max_depth=None, n_estimators=50;, score=-0.019 total time=   2.2s\n",
      "[CV 7/10] END .max_depth=None, n_estimators=50;, score=-0.029 total time=   2.1s\n",
      "[CV 8/10] END .max_depth=None, n_estimators=50;, score=-0.017 total time=   2.2s\n",
      "[CV 9/10] END .max_depth=None, n_estimators=50;, score=-0.017 total time=   2.2s\n",
      "[CV 10/10] END max_depth=None, n_estimators=50;, score=-0.016 total time=   2.3s\n",
      "[CV 1/10] END max_depth=None, n_estimators=100;, score=-0.052 total time=   4.2s\n",
      "[CV 2/10] END max_depth=None, n_estimators=100;, score=-0.040 total time=   4.4s\n",
      "[CV 3/10] END max_depth=None, n_estimators=100;, score=-0.069 total time=   4.5s\n",
      "[CV 4/10] END max_depth=None, n_estimators=100;, score=-0.044 total time=   5.5s\n",
      "[CV 5/10] END max_depth=None, n_estimators=100;, score=-0.050 total time=   4.3s\n",
      "[CV 6/10] END max_depth=None, n_estimators=100;, score=-0.019 total time=   4.3s\n",
      "[CV 7/10] END max_depth=None, n_estimators=100;, score=-0.029 total time=   4.3s\n",
      "[CV 8/10] END max_depth=None, n_estimators=100;, score=-0.016 total time=   4.3s\n",
      "[CV 9/10] END max_depth=None, n_estimators=100;, score=-0.017 total time=   4.5s\n",
      "[CV 10/10] END max_depth=None, n_estimators=100;, score=-0.017 total time=   4.7s\n",
      "[CV 1/10] END max_depth=None, n_estimators=200;, score=-0.049 total time=   8.2s\n",
      "[CV 2/10] END max_depth=None, n_estimators=200;, score=-0.038 total time=   8.6s\n",
      "[CV 3/10] END max_depth=None, n_estimators=200;, score=-0.068 total time=   8.8s\n",
      "[CV 4/10] END max_depth=None, n_estimators=200;, score=-0.044 total time=   9.0s\n",
      "[CV 5/10] END max_depth=None, n_estimators=200;, score=-0.050 total time=   8.5s\n",
      "[CV 6/10] END max_depth=None, n_estimators=200;, score=-0.018 total time=   8.9s\n",
      "[CV 7/10] END max_depth=None, n_estimators=200;, score=-0.029 total time=   8.5s\n",
      "[CV 8/10] END max_depth=None, n_estimators=200;, score=-0.016 total time=   8.7s\n",
      "[CV 9/10] END max_depth=None, n_estimators=200;, score=-0.017 total time=   8.8s\n",
      "[CV 10/10] END max_depth=None, n_estimators=200;, score=-0.016 total time=   9.4s\n",
      "[CV 1/10] END ...max_depth=10, n_estimators=10;, score=-0.055 total time=   0.3s\n",
      "[CV 2/10] END ...max_depth=10, n_estimators=10;, score=-0.035 total time=   0.3s\n",
      "[CV 3/10] END ...max_depth=10, n_estimators=10;, score=-0.068 total time=   0.3s\n",
      "[CV 4/10] END ...max_depth=10, n_estimators=10;, score=-0.044 total time=   0.3s\n",
      "[CV 5/10] END ...max_depth=10, n_estimators=10;, score=-0.050 total time=   0.3s\n",
      "[CV 6/10] END ...max_depth=10, n_estimators=10;, score=-0.022 total time=   0.3s\n",
      "[CV 7/10] END ...max_depth=10, n_estimators=10;, score=-0.029 total time=   0.3s\n",
      "[CV 8/10] END ...max_depth=10, n_estimators=10;, score=-0.021 total time=   0.3s\n",
      "[CV 9/10] END ...max_depth=10, n_estimators=10;, score=-0.021 total time=   0.3s\n",
      "[CV 10/10] END ..max_depth=10, n_estimators=10;, score=-0.018 total time=   0.3s\n",
      "[CV 1/10] END ...max_depth=10, n_estimators=50;, score=-0.051 total time=   1.6s\n",
      "[CV 2/10] END ...max_depth=10, n_estimators=50;, score=-0.039 total time=   1.7s\n",
      "[CV 3/10] END ...max_depth=10, n_estimators=50;, score=-0.068 total time=   1.7s\n",
      "[CV 4/10] END ...max_depth=10, n_estimators=50;, score=-0.043 total time=   1.8s\n",
      "[CV 5/10] END ...max_depth=10, n_estimators=50;, score=-0.049 total time=   1.7s\n",
      "[CV 6/10] END ...max_depth=10, n_estimators=50;, score=-0.020 total time=   1.7s\n",
      "[CV 7/10] END ...max_depth=10, n_estimators=50;, score=-0.029 total time=   1.8s\n",
      "[CV 8/10] END ...max_depth=10, n_estimators=50;, score=-0.018 total time=   1.8s\n",
      "[CV 9/10] END ...max_depth=10, n_estimators=50;, score=-0.018 total time=   1.8s\n",
      "[CV 10/10] END ..max_depth=10, n_estimators=50;, score=-0.019 total time=   1.9s\n",
      "[CV 1/10] END ..max_depth=10, n_estimators=100;, score=-0.050 total time=   3.4s\n",
      "[CV 2/10] END ..max_depth=10, n_estimators=100;, score=-0.038 total time=   3.6s\n",
      "[CV 3/10] END ..max_depth=10, n_estimators=100;, score=-0.068 total time=   3.6s\n",
      "[CV 4/10] END ..max_depth=10, n_estimators=100;, score=-0.044 total time=   3.6s\n",
      "[CV 5/10] END ..max_depth=10, n_estimators=100;, score=-0.050 total time=   3.6s\n",
      "[CV 6/10] END ..max_depth=10, n_estimators=100;, score=-0.019 total time=   3.5s\n",
      "[CV 7/10] END ..max_depth=10, n_estimators=100;, score=-0.029 total time=   3.5s\n",
      "[CV 8/10] END ..max_depth=10, n_estimators=100;, score=-0.017 total time=   3.6s\n",
      "[CV 9/10] END ..max_depth=10, n_estimators=100;, score=-0.019 total time=   3.6s\n",
      "[CV 10/10] END .max_depth=10, n_estimators=100;, score=-0.018 total time=   3.7s\n",
      "[CV 1/10] END ..max_depth=10, n_estimators=200;, score=-0.048 total time=   6.7s\n",
      "[CV 2/10] END ..max_depth=10, n_estimators=200;, score=-0.039 total time=   7.0s\n",
      "[CV 3/10] END ..max_depth=10, n_estimators=200;, score=-0.069 total time=   7.2s\n",
      "[CV 4/10] END ..max_depth=10, n_estimators=200;, score=-0.044 total time=   7.3s\n",
      "[CV 5/10] END ..max_depth=10, n_estimators=200;, score=-0.049 total time=   7.2s\n",
      "[CV 6/10] END ..max_depth=10, n_estimators=200;, score=-0.018 total time=   7.1s\n",
      "[CV 7/10] END ..max_depth=10, n_estimators=200;, score=-0.028 total time=   7.1s\n",
      "[CV 8/10] END ..max_depth=10, n_estimators=200;, score=-0.016 total time=   7.3s\n",
      "[CV 9/10] END ..max_depth=10, n_estimators=200;, score=-0.018 total time=   7.2s\n",
      "[CV 10/10] END .max_depth=10, n_estimators=200;, score=-0.017 total time=   7.7s\n",
      "[CV 1/10] END ...max_depth=20, n_estimators=10;, score=-0.054 total time=   0.3s\n",
      "[CV 2/10] END ...max_depth=20, n_estimators=10;, score=-0.041 total time=   0.4s\n",
      "[CV 3/10] END ...max_depth=20, n_estimators=10;, score=-0.069 total time=   0.4s\n",
      "[CV 4/10] END ...max_depth=20, n_estimators=10;, score=-0.043 total time=   0.4s\n",
      "[CV 5/10] END ...max_depth=20, n_estimators=10;, score=-0.050 total time=   0.4s\n",
      "[CV 6/10] END ...max_depth=20, n_estimators=10;, score=-0.020 total time=   0.4s\n",
      "[CV 7/10] END ...max_depth=20, n_estimators=10;, score=-0.029 total time=   0.4s\n",
      "[CV 8/10] END ...max_depth=20, n_estimators=10;, score=-0.019 total time=   0.4s\n",
      "[CV 9/10] END ...max_depth=20, n_estimators=10;, score=-0.018 total time=   0.4s\n",
      "[CV 10/10] END ..max_depth=20, n_estimators=10;, score=-0.018 total time=   0.4s\n",
      "[CV 1/10] END ...max_depth=20, n_estimators=50;, score=-0.049 total time=   2.0s\n",
      "[CV 2/10] END ...max_depth=20, n_estimators=50;, score=-0.038 total time=   2.1s\n",
      "[CV 3/10] END ...max_depth=20, n_estimators=50;, score=-0.069 total time=   2.2s\n",
      "[CV 4/10] END ...max_depth=20, n_estimators=50;, score=-0.042 total time=   2.2s\n",
      "[CV 5/10] END ...max_depth=20, n_estimators=50;, score=-0.050 total time=   2.2s\n",
      "[CV 6/10] END ...max_depth=20, n_estimators=50;, score=-0.019 total time=   2.2s\n",
      "[CV 7/10] END ...max_depth=20, n_estimators=50;, score=-0.028 total time=   2.1s\n",
      "[CV 8/10] END ...max_depth=20, n_estimators=50;, score=-0.017 total time=   2.1s\n",
      "[CV 9/10] END ...max_depth=20, n_estimators=50;, score=-0.017 total time=   2.2s\n",
      "[CV 10/10] END ..max_depth=20, n_estimators=50;, score=-0.017 total time=   2.3s\n",
      "[CV 1/10] END ..max_depth=20, n_estimators=100;, score=-0.053 total time=   4.1s\n"
     ]
    },
    {
     "name": "stdout",
     "output_type": "stream",
     "text": [
      "[CV 2/10] END ..max_depth=20, n_estimators=100;, score=-0.039 total time=   4.3s\n",
      "[CV 3/10] END ..max_depth=20, n_estimators=100;, score=-0.069 total time=   4.4s\n",
      "[CV 4/10] END ..max_depth=20, n_estimators=100;, score=-0.044 total time=   4.5s\n",
      "[CV 5/10] END ..max_depth=20, n_estimators=100;, score=-0.049 total time=   4.2s\n",
      "[CV 6/10] END ..max_depth=20, n_estimators=100;, score=-0.020 total time=   4.3s\n",
      "[CV 7/10] END ..max_depth=20, n_estimators=100;, score=-0.029 total time=   4.7s\n",
      "[CV 8/10] END ..max_depth=20, n_estimators=100;, score=-0.017 total time=   4.3s\n",
      "[CV 9/10] END ..max_depth=20, n_estimators=100;, score=-0.018 total time=   4.3s\n",
      "[CV 10/10] END .max_depth=20, n_estimators=100;, score=-0.017 total time=   4.7s\n",
      "[CV 1/10] END ..max_depth=20, n_estimators=200;, score=-0.052 total time=   8.3s\n",
      "[CV 2/10] END ..max_depth=20, n_estimators=200;, score=-0.039 total time=   8.7s\n",
      "[CV 3/10] END ..max_depth=20, n_estimators=200;, score=-0.069 total time=   8.8s\n",
      "[CV 4/10] END ..max_depth=20, n_estimators=200;, score=-0.044 total time=  10.6s\n",
      "[CV 5/10] END ..max_depth=20, n_estimators=200;, score=-0.050 total time=   9.4s\n",
      "[CV 6/10] END ..max_depth=20, n_estimators=200;, score=-0.018 total time=   8.9s\n",
      "[CV 7/10] END ..max_depth=20, n_estimators=200;, score=-0.029 total time=  10.2s\n",
      "[CV 8/10] END ..max_depth=20, n_estimators=200;, score=-0.018 total time=  10.2s\n",
      "[CV 9/10] END ..max_depth=20, n_estimators=200;, score=-0.017 total time=   8.9s\n",
      "[CV 10/10] END .max_depth=20, n_estimators=200;, score=-0.017 total time=   9.8s\n",
      "Best Hyperparameters: {'max_depth': None, 'n_estimators': 200}\n",
      "[-0.05182106 -0.03889451 -0.06869983 -0.04503376 -0.04969429 -0.01827789\n",
      " -0.02868139 -0.01717234 -0.0174566  -0.01690107]\n",
      "Mean Cross-Validation Score: -0.03526327428395049\n",
      "Standard Deviation of Cross-Validation Score: 0.01738511121298895\n"
     ]
    }
   ],
   "source": [
    "from sklearn.model_selection import GridSearchCV\n",
    "from sklearn.model_selection import cross_val_score\n",
    "\n",
    "# Define the hyperparameters you want to tune\n",
    "param_grid = {\n",
    "    'n_estimators': [10, 50, 100, 200],  # Number of trees in the forest\n",
    "    'max_depth': [None, 10, 20],       # Maximum depth of the trees\n",
    "    #'min_samples_split': [2, 5, 10],    # Minimum number of samples required to split a node\n",
    "    #'min_samples_leaf': [1, 2, 4]       # Minimum number of samples required at each leaf node\n",
    "}\n",
    "\n",
    "# Initialize the Random Forest Regressor\n",
    "rf_model = RandomForestRegressor()\n",
    "\n",
    "# Initialize the custom cross-validation splitter\n",
    "subject_kfold = SubjectKFold(num_subjects=10)\n",
    "\n",
    "# Initialize the GridSearchCV object with the RandomForestRegressor, parameter grid, and scoring metric\n",
    "grid_search = GridSearchCV(estimator=rf_model, param_grid=param_grid, cv=subject_kfold, scoring='neg_root_mean_squared_error', verbose=5)\n",
    "\n",
    "# Perform grid search with cross-validation\n",
    "grid_search.fit(X, y)\n",
    "\n",
    "# Get the best hyperparameters\n",
    "best_params = grid_search.best_params_\n",
    "\n",
    "print(\"Best Hyperparameters:\", best_params)\n",
    "\n",
    "# Get the best model\n",
    "best_model = grid_search.best_estimator_\n",
    "\n",
    "# Evaluate the best model using cross-validation\n",
    "cv_results = cross_val_score(best_model, X, y, cv=subject_kfold, scoring='neg_root_mean_squared_error')\n",
    "\n",
    "# Calculate the mean and standard deviation of the cross-validation scores\n",
    "mean_cv_score = np.mean(cv_results)\n",
    "std_cv_score = np.std(cv_results)\n",
    "\n",
    "print(cv_results)\n",
    "print(f\"Mean Cross-Validation Score: {mean_cv_score}\")\n",
    "print(f\"Standard Deviation of Cross-Validation Score: {std_cv_score}\")\n"
   ]
  },
  {
   "cell_type": "code",
   "execution_count": 13,
   "id": "e84b1079",
   "metadata": {},
   "outputs": [],
   "source": [
    "# Splitting the dataset \n",
    "from sklearn.model_selection import train_test_split\n",
    "X_train, X_test, y_train, y_test = train_test_split(X, y, test_size = 0.2, random_state = 1)"
   ]
  },
  {
   "cell_type": "code",
   "execution_count": 34,
   "id": "ba4488c9",
   "metadata": {},
   "outputs": [
    {
     "data": {
      "text/html": [
       "<style>#sk-container-id-4 {color: black;background-color: white;}#sk-container-id-4 pre{padding: 0;}#sk-container-id-4 div.sk-toggleable {background-color: white;}#sk-container-id-4 label.sk-toggleable__label {cursor: pointer;display: block;width: 100%;margin-bottom: 0;padding: 0.3em;box-sizing: border-box;text-align: center;}#sk-container-id-4 label.sk-toggleable__label-arrow:before {content: \"▸\";float: left;margin-right: 0.25em;color: #696969;}#sk-container-id-4 label.sk-toggleable__label-arrow:hover:before {color: black;}#sk-container-id-4 div.sk-estimator:hover label.sk-toggleable__label-arrow:before {color: black;}#sk-container-id-4 div.sk-toggleable__content {max-height: 0;max-width: 0;overflow: hidden;text-align: left;background-color: #f0f8ff;}#sk-container-id-4 div.sk-toggleable__content pre {margin: 0.2em;color: black;border-radius: 0.25em;background-color: #f0f8ff;}#sk-container-id-4 input.sk-toggleable__control:checked~div.sk-toggleable__content {max-height: 200px;max-width: 100%;overflow: auto;}#sk-container-id-4 input.sk-toggleable__control:checked~label.sk-toggleable__label-arrow:before {content: \"▾\";}#sk-container-id-4 div.sk-estimator input.sk-toggleable__control:checked~label.sk-toggleable__label {background-color: #d4ebff;}#sk-container-id-4 div.sk-label input.sk-toggleable__control:checked~label.sk-toggleable__label {background-color: #d4ebff;}#sk-container-id-4 input.sk-hidden--visually {border: 0;clip: rect(1px 1px 1px 1px);clip: rect(1px, 1px, 1px, 1px);height: 1px;margin: -1px;overflow: hidden;padding: 0;position: absolute;width: 1px;}#sk-container-id-4 div.sk-estimator {font-family: monospace;background-color: #f0f8ff;border: 1px dotted black;border-radius: 0.25em;box-sizing: border-box;margin-bottom: 0.5em;}#sk-container-id-4 div.sk-estimator:hover {background-color: #d4ebff;}#sk-container-id-4 div.sk-parallel-item::after {content: \"\";width: 100%;border-bottom: 1px solid gray;flex-grow: 1;}#sk-container-id-4 div.sk-label:hover label.sk-toggleable__label {background-color: #d4ebff;}#sk-container-id-4 div.sk-serial::before {content: \"\";position: absolute;border-left: 1px solid gray;box-sizing: border-box;top: 0;bottom: 0;left: 50%;z-index: 0;}#sk-container-id-4 div.sk-serial {display: flex;flex-direction: column;align-items: center;background-color: white;padding-right: 0.2em;padding-left: 0.2em;position: relative;}#sk-container-id-4 div.sk-item {position: relative;z-index: 1;}#sk-container-id-4 div.sk-parallel {display: flex;align-items: stretch;justify-content: center;background-color: white;position: relative;}#sk-container-id-4 div.sk-item::before, #sk-container-id-4 div.sk-parallel-item::before {content: \"\";position: absolute;border-left: 1px solid gray;box-sizing: border-box;top: 0;bottom: 0;left: 50%;z-index: -1;}#sk-container-id-4 div.sk-parallel-item {display: flex;flex-direction: column;z-index: 1;position: relative;background-color: white;}#sk-container-id-4 div.sk-parallel-item:first-child::after {align-self: flex-end;width: 50%;}#sk-container-id-4 div.sk-parallel-item:last-child::after {align-self: flex-start;width: 50%;}#sk-container-id-4 div.sk-parallel-item:only-child::after {width: 0;}#sk-container-id-4 div.sk-dashed-wrapped {border: 1px dashed gray;margin: 0 0.4em 0.5em 0.4em;box-sizing: border-box;padding-bottom: 0.4em;background-color: white;}#sk-container-id-4 div.sk-label label {font-family: monospace;font-weight: bold;display: inline-block;line-height: 1.2em;}#sk-container-id-4 div.sk-label-container {text-align: center;}#sk-container-id-4 div.sk-container {/* jupyter's `normalize.less` sets `[hidden] { display: none; }` but bootstrap.min.css set `[hidden] { display: none !important; }` so we also need the `!important` here to be able to override the default hidden behavior on the sphinx rendered scikit-learn.org. See: https://github.com/scikit-learn/scikit-learn/issues/21755 */display: inline-block !important;position: relative;}#sk-container-id-4 div.sk-text-repr-fallback {display: none;}</style><div id=\"sk-container-id-4\" class=\"sk-top-container\"><div class=\"sk-text-repr-fallback\"><pre>RandomForestRegressor(n_estimators=200, random_state=0)</pre><b>In a Jupyter environment, please rerun this cell to show the HTML representation or trust the notebook. <br />On GitHub, the HTML representation is unable to render, please try loading this page with nbviewer.org.</b></div><div class=\"sk-container\" hidden><div class=\"sk-item\"><div class=\"sk-estimator sk-toggleable\"><input class=\"sk-toggleable__control sk-hidden--visually\" id=\"sk-estimator-id-4\" type=\"checkbox\" checked><label for=\"sk-estimator-id-4\" class=\"sk-toggleable__label sk-toggleable__label-arrow\">RandomForestRegressor</label><div class=\"sk-toggleable__content\"><pre>RandomForestRegressor(n_estimators=200, random_state=0)</pre></div></div></div></div></div>"
      ],
      "text/plain": [
       "RandomForestRegressor(n_estimators=200, random_state=0)"
      ]
     },
     "execution_count": 34,
     "metadata": {},
     "output_type": "execute_result"
    }
   ],
   "source": [
    "from sklearn.ensemble import RandomForestRegressor\n",
    "regressor = RandomForestRegressor(n_estimators = 200, random_state = 0)\n",
    "regressor.fit(X_train, y_train)"
   ]
  },
  {
   "cell_type": "code",
   "execution_count": 35,
   "id": "4e1ef27c",
   "metadata": {},
   "outputs": [],
   "source": [
    "y_pred = regressor.predict(X_test)"
   ]
  },
  {
   "cell_type": "code",
   "execution_count": 36,
   "id": "fdf23b96",
   "metadata": {},
   "outputs": [
    {
     "data": {
      "text/plain": [
       "0.9597562286388268"
      ]
     },
     "execution_count": 36,
     "metadata": {},
     "output_type": "execute_result"
    }
   ],
   "source": [
    "from sklearn.metrics import r2_score\n",
    "r2_score(y_test, y_pred)"
   ]
  },
  {
   "cell_type": "code",
   "execution_count": 37,
   "id": "e523aadb",
   "metadata": {},
   "outputs": [
    {
     "data": {
      "text/plain": [
       "0.009410935294948207"
      ]
     },
     "execution_count": 37,
     "metadata": {},
     "output_type": "execute_result"
    }
   ],
   "source": [
    "from sklearn.metrics import mean_squared_error\n",
    "np.sqrt(mean_squared_error(y_test, y_pred))"
   ]
  },
  {
   "cell_type": "code",
   "execution_count": 38,
   "id": "6e5c80c5",
   "metadata": {},
   "outputs": [],
   "source": [
    "feature_importances = pd.DataFrame(regressor.feature_importances_,index=a, columns=['importance']).sort_values('importance',ascending=False)"
   ]
  },
  {
   "cell_type": "code",
   "execution_count": 39,
   "id": "3dbcba8c",
   "metadata": {
    "scrolled": false
   },
   "outputs": [
    {
     "data": {
      "text/html": [
       "<div>\n",
       "<style scoped>\n",
       "    .dataframe tbody tr th:only-of-type {\n",
       "        vertical-align: middle;\n",
       "    }\n",
       "\n",
       "    .dataframe tbody tr th {\n",
       "        vertical-align: top;\n",
       "    }\n",
       "\n",
       "    .dataframe thead th {\n",
       "        text-align: right;\n",
       "    }\n",
       "</style>\n",
       "<table border=\"1\" class=\"dataframe\">\n",
       "  <thead>\n",
       "    <tr style=\"text-align: right;\">\n",
       "      <th></th>\n",
       "      <th>importance</th>\n",
       "    </tr>\n",
       "  </thead>\n",
       "  <tbody>\n",
       "    <tr>\n",
       "      <th>ZMin</th>\n",
       "      <td>0.396021</td>\n",
       "    </tr>\n",
       "    <tr>\n",
       "      <th>HR</th>\n",
       "      <td>0.165845</td>\n",
       "    </tr>\n",
       "    <tr>\n",
       "      <th>weight</th>\n",
       "      <td>0.088342</td>\n",
       "    </tr>\n",
       "    <tr>\n",
       "      <th>BR</th>\n",
       "      <td>0.074952</td>\n",
       "    </tr>\n",
       "    <tr>\n",
       "      <th>age</th>\n",
       "      <td>0.055975</td>\n",
       "    </tr>\n",
       "    <tr>\n",
       "      <th>ZPeak</th>\n",
       "      <td>0.053554</td>\n",
       "    </tr>\n",
       "    <tr>\n",
       "      <th>height</th>\n",
       "      <td>0.037943</td>\n",
       "    </tr>\n",
       "    <tr>\n",
       "      <th>Activity</th>\n",
       "      <td>0.034990</td>\n",
       "    </tr>\n",
       "    <tr>\n",
       "      <th>XMin</th>\n",
       "      <td>0.019264</td>\n",
       "    </tr>\n",
       "    <tr>\n",
       "      <th>YMin</th>\n",
       "      <td>0.018475</td>\n",
       "    </tr>\n",
       "    <tr>\n",
       "      <th>Acceleration</th>\n",
       "      <td>0.015724</td>\n",
       "    </tr>\n",
       "    <tr>\n",
       "      <th>XPeak</th>\n",
       "      <td>0.012036</td>\n",
       "    </tr>\n",
       "    <tr>\n",
       "      <th>female</th>\n",
       "      <td>0.010246</td>\n",
       "    </tr>\n",
       "    <tr>\n",
       "      <th>male</th>\n",
       "      <td>0.007694</td>\n",
       "    </tr>\n",
       "    <tr>\n",
       "      <th>YPeak</th>\n",
       "      <td>0.006316</td>\n",
       "    </tr>\n",
       "    <tr>\n",
       "      <th>Posture</th>\n",
       "      <td>0.002623</td>\n",
       "    </tr>\n",
       "  </tbody>\n",
       "</table>\n",
       "</div>"
      ],
      "text/plain": [
       "              importance\n",
       "ZMin            0.396021\n",
       "HR              0.165845\n",
       "weight          0.088342\n",
       "BR              0.074952\n",
       "age             0.055975\n",
       "ZPeak           0.053554\n",
       "height          0.037943\n",
       "Activity        0.034990\n",
       "XMin            0.019264\n",
       "YMin            0.018475\n",
       "Acceleration    0.015724\n",
       "XPeak           0.012036\n",
       "female          0.010246\n",
       "male            0.007694\n",
       "YPeak           0.006316\n",
       "Posture         0.002623"
      ]
     },
     "execution_count": 39,
     "metadata": {},
     "output_type": "execute_result"
    }
   ],
   "source": [
    "feature_importances"
   ]
  },
  {
   "cell_type": "code",
   "execution_count": 20,
   "id": "30dca74c",
   "metadata": {},
   "outputs": [
    {
     "data": {
      "image/png": "[encoded data removed]",
      "text/plain": [
       "<Figure size 800x600 with 1 Axes>"
      ]
     },
     "metadata": {},
     "output_type": "display_data"
    }
   ],
   "source": [
    "import matplotlib.pyplot as plt\n",
    "\n",
    "# Assuming mse_scores contains the MSE scores from k-fold cross-validation\n",
    "\n",
    "# Create a boxplot of the MSE scores\n",
    "plt.figure(figsize=(8, 6))\n",
    "plt.boxplot(mse_scores)\n",
    "plt.title('MSE Scores from K-Fold Cross-Validation')\n",
    "plt.xlabel('Folds')\n",
    "plt.ylabel('Mean Squared Error')\n",
    "plt.show()"
   ]
  },
  {
   "cell_type": "code",
   "execution_count": 21,
   "id": "9cd65e30",
   "metadata": {},
   "outputs": [
    {
     "data": {
      "text/plain": [
       "[0.0024921207164659933,\n",
       " 0.001560645734385787,\n",
       " 0.004803015821613721,\n",
       " 0.0018463537165836438,\n",
       " 0.0024186029468174185,\n",
       " 0.00036848323615444367,\n",
       " 0.0008201071791691898,\n",
       " 0.00024403677464651162,\n",
       " 0.00031415517765640786,\n",
       " 0.0002532648289142184]"
      ]
     },
     "execution_count": 21,
     "metadata": {},
     "output_type": "execute_result"
    }
   ],
   "source": [
    "mse_scores"
   ]
  }
 ],
 "metadata": {
  "kernelspec": {
   "display_name": "Python 3 (ipykernel)",
   "language": "python",
   "name": "python3"
  },
  "language_info": {
   "codemirror_mode": {
    "name": "ipython",
    "version": 3
   },
   "file_extension": ".py",
   "mimetype": "text/x-python",
   "name": "python",
   "nbconvert_exporter": "python",
   "pygments_lexer": "ipython3",
   "version": "3.10.11"
  }
 },
 "nbformat": 4,
 "nbformat_minor": 5
}
